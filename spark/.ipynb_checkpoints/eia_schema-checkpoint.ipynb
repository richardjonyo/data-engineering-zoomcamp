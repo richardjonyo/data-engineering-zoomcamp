{
 "cells": [
  {
   "cell_type": "code",
   "execution_count": 1,
   "id": "8c1d0c08",
   "metadata": {},
   "outputs": [],
   "source": [
    "import pyspark\n",
    "import re\n",
    "from pyspark.sql import SparkSession\n",
    "from pyspark.sql.functions import input_file_name, regexp_extract\n",
    "from pyspark.conf import SparkConf\n",
    "from pyspark.context import SparkContext\n"
   ]
  },
  {
   "cell_type": "code",
   "execution_count": 2,
   "id": "96a248f5",
   "metadata": {},
   "outputs": [],
   "source": [
    "credentials_location = '../../dtc-gc-37b8d03b4e65.json'\n",
    "\n",
    "conf = SparkConf() \\\n",
    "    .setMaster('local[*]') \\\n",
    "    .setAppName('eia') \\\n",
    "    .set(\"spark.jars\", \"./lib/gcs-connector-hadoop3-2.2.5.jar\") \\\n",
    "    .set(\"spark.hadoop.google.cloud.auth.service.account.enable\", \"true\") \\\n",
    "    .set(\"spark.hadoop.google.cloud.auth.service.account.json.keyfile\", credentials_location)\n",
    "\n",
    "sc = SparkContext(conf=conf)\n",
    "\n",
    "hadoop_conf = sc._jsc.hadoopConfiguration()\n",
    "\n",
    "hadoop_conf.set(\"fs.AbstractFileSystem.gs.impl\",  \"com.google.cloud.hadoop.fs.gcs.GoogleHadoopFS\")\n",
    "hadoop_conf.set(\"fs.gs.impl\", \"com.google.cloud.hadoop.fs.gcs.GoogleHadoopFileSystem\")\n",
    "hadoop_conf.set(\"fs.gs.auth.service.account.json.keyfile\", credentials_location)\n",
    "hadoop_conf.set(\"fs.gs.auth.service.account.enable\", \"true\")"
   ]
  },
  {
   "cell_type": "code",
   "execution_count": 3,
   "id": "b3b4e273",
   "metadata": {},
   "outputs": [],
   "source": [
    "spark = SparkSession.builder \\\n",
    "    .config(conf=sc.getConf()) \\\n",
    "    .getOrCreate()"
   ]
  },
  {
   "cell_type": "code",
   "execution_count": 4,
   "id": "c53274b1",
   "metadata": {},
   "outputs": [],
   "source": [
    "import pandas as pd"
   ]
  },
  {
   "cell_type": "code",
   "execution_count": 5,
   "id": "5d8434e1",
   "metadata": {},
   "outputs": [],
   "source": [
    "from pyspark.sql import types"
   ]
  },
  {
   "cell_type": "code",
   "execution_count": 6,
   "id": "a84c6c6d",
   "metadata": {},
   "outputs": [],
   "source": [
    "production_schema = types.StructType([\n",
    "    types.StructField(\"state\", types.StringType(), True),\n",
    "    types.StructField(\"year\", types.IntegerType(), True),\n",
    "    types.StructField(\"annual_average\", types.FloatType(), True),\n",
    "    types.StructField(\"annual_total\", types.FloatType(), True),\n",
    "    types.StructField(\"state_category\", types.StringType(), True)\n",
    "])"
   ]
  },
  {
   "cell_type": "code",
   "execution_count": 10,
   "id": "3f7e0cb9",
   "metadata": {
    "scrolled": true
   },
   "outputs": [
    {
     "name": "stdout",
     "output_type": "stream",
     "text": [
      "processing data for weeks...\n"
     ]
    }
   ],
   "source": [
    "period = 'week'\n",
    "print(f'processing data for {period}s...')\n",
    "\n",
    "input_path = f'gs://dtc_data_lake_dtc-gc/data/eia/{period}/*/'\n",
    "output_path = f'gs://dtc_data_lake_dtc-gc/pq/eia/{period}/'\n",
    "\n",
    "df_production = spark.read \\\n",
    " .option(\"header\", \"true\") \\\n",
    " .schema(production_schema) \\\n",
    " .csv(input_path)\n",
    "\n",
    "df_production = df_production.withColumn(\"year\", input_file_name())\n",
    "df_production = df_production.withColumn(\"year\", regexp_extract(\"year\", \"(\\d{4})\", 1))\n",
    "\n",
    "df_production \\\n",
    "  .repartition(4) \\\n",
    "  .write.parquet(output_path, mode='overwrite')\n"
   ]
  },
  {
   "cell_type": "code",
   "execution_count": 42,
   "id": "96ac2ad7",
   "metadata": {
    "scrolled": true
   },
   "outputs": [
    {
     "data": {
      "text/plain": [
       "[('state', 'string'),\n",
       " ('year', 'string'),\n",
       " ('annual_average', 'float'),\n",
       " ('annual_total', 'float'),\n",
       " ('state_category', 'string')]"
      ]
     },
     "execution_count": 42,
     "metadata": {},
     "output_type": "execute_result"
    }
   ],
   "source": [
    "#df_production.dtypes"
   ]
  },
  {
   "cell_type": "code",
   "execution_count": 45,
   "id": "463c7dc8",
   "metadata": {},
   "outputs": [
    {
     "name": "stdout",
     "output_type": "stream",
     "text": [
      "+--------------+----+--------------+------------+--------------+\n",
      "|         state|year|annual_average|annual_total|state_category|\n",
      "+--------------+----+--------------+------------+--------------+\n",
      "|       Alabama|2004|      333555.0|    352355.0|      348653.0|\n",
      "|        Alaska|2004|       16078.0|     16984.0|       16805.0|\n",
      "|       Arizona|2004|      219963.0|    232360.0|      229919.0|\n",
      "|      Arkansas|2004|         201.0|       212.0|         210.0|\n",
      "|      Colorado|2004|      747213.0|    789327.0|      781034.0|\n",
      "|      Illinois|2004|      504316.0|    532739.0|      527142.0|\n",
      "|       Indiana|2004|      663268.0|    700651.0|      693289.0|\n",
      "|        Kansas|2004|        2997.0|      3166.0|        3133.0|\n",
      "|Kentucky Total|2004|     2057293.0|   2173243.0|     2150410.0|\n",
      "|       Eastern|2004|     1689501.0|   1784722.0|     1765971.0|\n",
      "|       Western|2004|      367792.0|    388521.0|      384439.0|\n",
      "|     Louisiana|2004|       80270.0|    103476.0|      104132.0|\n",
      "|      Maryland|2004|       89997.0|     95069.0|       94070.0|\n",
      "|   Mississippi|2004|       79577.0|     52788.0|       82174.0|\n",
      "|      Missouri|2004|        5210.0|     11113.0|       10997.0|\n",
      "|       Montana|2004|      665240.0|    702733.0|      695350.0|\n",
      "|    New Mexico|2004|      509888.0|    538625.0|      532966.0|\n",
      "|  North Dakota|2004|      584738.0|    617694.0|      611204.0|\n",
      "|          Ohio|2004|      382315.0|    403863.0|      399620.0|\n",
      "|      Oklahoma|2004|       27538.0|     29090.0|       28785.0|\n",
      "+--------------+----+--------------+------------+--------------+\n",
      "only showing top 20 rows\n",
      "\n"
     ]
    }
   ],
   "source": [
    "#df_production.show()"
   ]
  },
  {
   "cell_type": "code",
   "execution_count": null,
   "id": "d7eb0da9",
   "metadata": {},
   "outputs": [],
   "source": []
  }
 ],
 "metadata": {
  "kernelspec": {
   "display_name": "Python 3 (ipykernel)",
   "language": "python",
   "name": "python3"
  },
  "language_info": {
   "codemirror_mode": {
    "name": "ipython",
    "version": 3
   },
   "file_extension": ".py",
   "mimetype": "text/x-python",
   "name": "python",
   "nbconvert_exporter": "python",
   "pygments_lexer": "ipython3",
   "version": "3.9.13"
  },
  "vscode": {
   "interpreter": {
    "hash": "014a6a9b035d9895ae6d2adce5cc467eb1c8e4633eedb610fb80b1a914aef929"
   }
  }
 },
 "nbformat": 4,
 "nbformat_minor": 5
}
